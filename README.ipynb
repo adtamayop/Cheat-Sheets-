{
 "cells": [
  {
   "cell_type": "markdown",
   "metadata": {},
   "source": [
    "# Cheat Sheets recopilation\n"
   ]
  },
  {
   "cell_type": "markdown",
   "metadata": {},
   "source": [
    "* Python\n",
    "<ul> \n",
    "        <li><a href=\"#orgheadline1\">Python for Data Science</a></li>\n",
    "        <li><a href=\"#orgheadline2\">Pandas</a></li>\n",
    "        <li><a href=\"#orgheadline3\">Numpy</a></li>\n",
    "        <li><a href=\"#orgheadline4\">Jupyter</a></li>\n",
    "        <li><a href=\"#orgheadline5\">Importing Data</a></li>             \n",
    "        <li><a href=\"#orgheadline6\">SciPy Linear Algebra</a></li>     \n",
    "</ul>\n",
    "\n",
    "\n",
    "\n",
    "* Visualization\n",
    "<ul> \n",
    "        <li><a href=\"#orgheadline7\">Bokeh</a></li>\n",
    "        <li><a href=\"#orgheadline8\">Matplotlib</a></li>\n",
    "        <li><a href=\"#orgheadline9\">Seaborn</a></li>  \n",
    "        <li><a href=\"#orgheadline10\">ggplot2</a></li>\n",
    "</ul>\n",
    "\n",
    "\n",
    "\n",
    "* Machine Learning\n",
    "<ul> \n",
    "        <li><a href=\"#orgheadline11\">Algorithm scikit</a></li>\n",
    "        <li><a href=\"#orgheadline12\">Scikit</a></li>\n",
    "        <li><a href=\"#orgheadline13\">Overview</a></li>  \n",
    "        <li><a href=\"#orgheadline14\">ML Azure</a></li>\n",
    "</ul>\n",
    "\n",
    "    \n",
    "* Deep Learning\n",
    "<ul> \n",
    "        <li><a href=\"#orgheadline15\">Neural Networks</a></li>\n",
    "        <li><a href=\"#orgheadline16\">Neural Networks Graphs</a></li>\n",
    "        <li><a href=\"#orgheadline17\">Tensor Flow </a></li>  \n",
    "        <li><a href=\"#orgheadline18\">Keras</a></li>\n",
    "</ul>\n",
    "\n",
    "\n",
    "* Big Data\n",
    "<ul> \n",
    "        <li><a href=\"#orgheadline19\">PySpark</a></li>\n",
    "</ul>\n",
    "\n"
   ]
  },
  {
   "cell_type": "markdown",
   "metadata": {},
   "source": [
    "## Python\n",
    "\n",
    "### Python for Data Science <a id=\"orgheadline1\"></a>\n",
    "<img src=\"images/Python/PythonforDataScience.png\"/>\n",
    "\n",
    "### Pandas <a id=\"orgheadline2\"></a>\n",
    "<img src=\"images/Python/Pandas.png\"/>\n",
    "\n",
    "### Numpy <a id=\"orgheadline3\"></a>\n",
    "<img src=\"images/Python/Numpy.png\"/>\n",
    "\n",
    "### Jupyter<a id=\"orgheadline4\"></a>\n",
    "<img src=\"images/Python/Jupyter.png\"/>\n",
    "\n",
    "### Importing Data <a id=\"orgheadline5\"></a>\n",
    "<img src=\"images/Python/Importing Data-1.png\"/>\n",
    "\n",
    "### Scipy Linear Algebra <a id=\"orgheadline6\"></a>\n",
    "<img src=\"images/Python/Scipy-LinearAlgebra.png\">"
   ]
  },
  {
   "cell_type": "markdown",
   "metadata": {},
   "source": [
    "## Visualization \n",
    "\n",
    "### Bokeh <a id=\"orgheadline7\"></a>\n",
    "<img src=\"images/visualization/Bokeh.png\"/>\n",
    "\n",
    "### Matplotlib<a id=\"orgheadline8\"></a>\n",
    "<img src=\"images/visualization/Matplotlib.png\"/>\n",
    "\n",
    "### Seaborn<a id=\"orgheadline9\"></a>\n",
    "<img src=\"images/visualization/Seaborn.png\"/>\n",
    "\n",
    "### ggplot2 <a id=\"orgheadline10\"></a>\n",
    "<img src=\"images/visualization/ggplot2.jpeg\">\n",
    "<img src=\"images/visualization/ggplot2_2.jpeg\">"
   ]
  },
  {
   "cell_type": "markdown",
   "metadata": {},
   "source": [
    "## Machine Learning \n",
    "\n",
    "### Algorithm SciKit <a id=\"orgheadline11\"></a>\n",
    "<img src=\"images/Machine Learning/ML Scikit-learn algorithm.png\"/>\n",
    "\n",
    "### Scikit-Learn <a id=\"orgheadline12\"></a>\n",
    "<img src=\"images/Machine Learning/Scikit-Learn.png\"/>\n",
    "\n",
    "### Overview<a id=\"orgheadline13\"></a>\n",
    "<img src=\"images/Machine Learning/Machine_learning_overview.png\"/>\n",
    "\n",
    "### ML Azure <a id=\"orgheadline14\"></a>\n",
    "<img src=\"images/Machine Learning/Machine learning Microsoft Azure.png\"/>"
   ]
  },
  {
   "cell_type": "markdown",
   "metadata": {},
   "source": [
    "## Deep Learning \n",
    "\n",
    "### Neural Networks  <a id=\"orgheadline15\"></a>\n",
    "<img src=\"images/Deep Learning/Neural_Networks.png\"/>\n",
    "\n",
    "### Neural Networks Graphs <a id=\"orgheadline16\"></a>\n",
    "<img src=\"images/Deep Learning/Neural_Network_Graphs.png\"/>\n",
    "\n",
    "### Tensor Flow<a id=\"orgheadline17\"></a>\n",
    "<img src=\"images/Deep Learning/TensorFLow.png\"/>\n",
    "\n",
    "### Keras <a id=\"orgheadline18\"></a>\n",
    "<img src=\"images/Deep Learning/Keras.jpeg\"/>"
   ]
  },
  {
   "cell_type": "markdown",
   "metadata": {},
   "source": [
    "## Big Data\n",
    "\n",
    "### PySpark  <a id=\"orgheadline19\"></a>\n",
    "<img src=\"images/Big Data/Pyspark.jpeg\"/>"
   ]
  },
  {
   "cell_type": "code",
   "execution_count": null,
   "metadata": {},
   "outputs": [],
   "source": []
  }
 ],
 "metadata": {
  "kernelspec": {
   "display_name": "Python 3",
   "language": "python",
   "name": "python3"
  },
  "language_info": {
   "codemirror_mode": {
    "name": "ipython",
    "version": 3
   },
   "file_extension": ".py",
   "mimetype": "text/x-python",
   "name": "python",
   "nbconvert_exporter": "python",
   "pygments_lexer": "ipython3",
   "version": "3.6.6"
  }
 },
 "nbformat": 4,
 "nbformat_minor": 2
}
